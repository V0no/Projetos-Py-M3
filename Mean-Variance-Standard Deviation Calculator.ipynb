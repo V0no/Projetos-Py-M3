{
  "nbformat": 4,
  "nbformat_minor": 0,
  "metadata": {
    "colab": {
      "provenance": []
    },
    "kernelspec": {
      "name": "python3",
      "display_name": "Python 3"
    },
    "language_info": {
      "name": "python"
    }
  },
  "cells": [
    {
      "cell_type": "code",
      "execution_count": null,
      "metadata": {
        "colab": {
          "base_uri": "https://localhost:8080/"
        },
        "id": "ZmxYxIbunMDF",
        "outputId": "90809ca8-623a-42e0-a274-283ad29a8ba8"
      },
      "outputs": [
        {
          "output_type": "stream",
          "name": "stdout",
          "text": [
            "{'max': [[6, 7, 8], [2, 5, 8], 8],\n",
            " 'mean': [[3.0, 4.0, 5.0], [1.0, 4.0, 7.0], 4.0],\n",
            " 'min': [[0, 1, 2], [0, 3, 6], 0],\n",
            " 'standard deviation': [[2.449489742783178,\n",
            "                         2.449489742783178,\n",
            "                         2.449489742783178],\n",
            "                        [0.816496580927726,\n",
            "                         0.816496580927726,\n",
            "                         0.816496580927726],\n",
            "                        2.581988897471611],\n",
            " 'sum': [[9, 12, 15], [3, 12, 21], 36],\n",
            " 'variance': [[6.0, 6.0, 6.0],\n",
            "              [0.6666666666666666, 0.6666666666666666, 0.6666666666666666],\n",
            "              6.666666666666667]}\n",
            "\n",
            "Sanity checks ok ✅\n"
          ]
        }
      ],
      "source": [
        "# main.py — versão em arquivo único\n",
        "\n",
        "import numpy as np\n",
        "\n",
        "def calculate(lst):\n",
        "    \"\"\"\n",
        "    Recebe uma lista com 9 números, organiza em uma matriz 3x3 (NumPy) e\n",
        "    retorna um dicionário com estatísticas calculadas por coluna (axis=0),\n",
        "    por linha (axis=1) e no array achatado (flatten).\n",
        "    \"\"\"\n",
        "    if len(lst) != 9:\n",
        "        raise ValueError(\"List must contain nine numbers.\")\n",
        "\n",
        "    arr = np.array(lst).reshape(3, 3)\n",
        "\n",
        "    calculations = {\n",
        "        'mean': [\n",
        "            arr.mean(axis=0).tolist(),\n",
        "            arr.mean(axis=1).tolist(),\n",
        "            arr.mean().tolist()\n",
        "        ],\n",
        "        'variance': [\n",
        "            arr.var(axis=0).tolist(),\n",
        "            arr.var(axis=1).tolist(),\n",
        "            arr.var().tolist()\n",
        "        ],\n",
        "        'standard deviation': [\n",
        "            arr.std(axis=0).tolist(),\n",
        "            arr.std(axis=1).tolist(),\n",
        "            arr.std().tolist()\n",
        "        ],\n",
        "        'max': [\n",
        "            arr.max(axis=0).tolist(),\n",
        "            arr.max(axis=1).tolist(),\n",
        "            arr.max().tolist()\n",
        "        ],\n",
        "        'min': [\n",
        "            arr.min(axis=0).tolist(),\n",
        "            arr.min(axis=1).tolist(),\n",
        "            arr.min().tolist()\n",
        "        ],\n",
        "        'sum': [\n",
        "            arr.sum(axis=0).tolist(),\n",
        "            arr.sum(axis=1).tolist(),\n",
        "            arr.sum().tolist()\n",
        "        ]\n",
        "    }\n",
        "\n",
        "    return calculations\n",
        "\n",
        "\n",
        "if __name__ == \"__main__\":\n",
        "    # Teste manual (o mesmo do enunciado)\n",
        "    data = [0,1,2,3,4,5,6,7,8]\n",
        "    result = calculate(data)\n",
        "    from pprint import pprint\n",
        "    pprint(result)\n",
        "\n",
        "    # Checagem rápida (sanity check) — não é obrigatório\n",
        "    # Verifica algumas entradas-chave do dicionário\n",
        "    assert result['mean'][0] == [3.0, 4.0, 5.0]          # por coluna\n",
        "    assert result['mean'][1] == [1.0, 4.0, 7.0]          # por linha\n",
        "    assert result['mean'][2] == 4.0                      # flatten\n",
        "    assert result['sum'][2] == 36                        # soma total\n",
        "    assert result['max'][2] == 8                         # max global\n",
        "    assert result['min'][2] == 0                         # min global\n",
        "    print(\"\\nSanity checks ok ✅\")\n"
      ]
    }
  ]
}